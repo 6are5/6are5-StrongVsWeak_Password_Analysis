{
 "cells": [
  {
   "cell_type": "code",
   "execution_count": null,
   "metadata": {},
   "outputs": [],
   "source": [
    "# Install entity https://github.com/trinker/entity\n",
    "# if (!require(\"pacman\")) install.packages(\"pacman\")\n",
    "# pacman::p_load_gh(\"trinker/entity\")\n",
    "pkgs <- c('entity', 'logging', 'stringi')\n",
    "sapply(pkgs, library, character.only = TRUE)\n"
   ]
  },
  {
   "cell_type": "code",
   "execution_count": null,
   "metadata": {},
   "outputs": [],
   "source": [
    "\n",
    "# A helper for handling ugly list-of-list manipulation\n",
    "unlisted <- function(x) sapply(x, function(a) ifelse(is.null(unlist(a)), NA, unlist(a)))\n",
    "\n"
   ]
  },
  {
   "cell_type": "code",
   "execution_count": null,
   "metadata": {},
   "outputs": [],
   "source": [
    "# Basic Python `logging` style logger\n",
    "standardLogger <- function(log_out, level = 20) {\n",
    "  basicConfig(level = level)\n",
    "  addHandler(writeToFile, logger = 'status', file = log_out)\n",
    "}\n",
    "\n"
   ]
  },
  {
   "cell_type": "code",
   "execution_count": null,
   "metadata": {},
   "outputs": [],
   "source": [
    "# Simple tagger. Runs all annotators on `x`, produces character matrix of columns per annotation.\n",
    "omniTagger <- function(\n",
    "  x, \n",
    "  tagger = c(\"person_annotator\", \"location_annotator\", \"date_annotator\", \"money_annotator\", \"percent_annotator\")\n",
    ")\n",
    "{\n",
    "  ret <- list()\n",
    "  for (i in seq_along(tagger)) {\n",
    "    ret[[i]] <- unlisted(entity::named_entity(x, tagger[i]))\n",
    "  }\n",
    "  stri_list2matrix(ret)\n",
    "}\n",
    "\n"
   ]
  },
  {
   "cell_type": "code",
   "execution_count": null,
   "metadata": {},
   "outputs": [],
   "source": [
    "# Performs NER in batches, pushing features to disk in tab delimited file\n",
    "tags_to_disk <- function(\n",
    "  file_in = '~/Downloads/breachcompilation.txt', \n",
    "  file_out = '~/develop_foss/pw-analysis/data/ner.features',\n",
    "  batch_size = 10**6,\n",
    "  tag_system = omniTagger,\n",
    "  log_level = 10,\n",
    "  log_location = '~/develop_foss/pw-analysis/data/ner.log',\n",
    "  logger = standardLogger\n",
    ")\n",
    "{\n",
    "  # TODO: Error handling\n",
    "  logger(log_location, log_level)\n",
    "  logdebug('Initializing...')\n",
    "  counter <- 0\n",
    "  while(TRUE) {\n",
    "    loginfo(paste('Reading from buffer', file_in))\n",
    "    buffer <- readr::read_lines(file_in, skip = counter, n_max = batch_size)\n",
    "    if(length(buffer) == 0) {\n",
    "      loginfo('Tagging completed. Exiting...')\n",
    "      return(0)\n",
    "    }\n",
    "    sz <- length(buffer); counter <- counter + sz;\n",
    "    loginfo(paste('Buffer read. Size:', sz, 'Counter:', counter))\n",
    "    buffer <- tag_system(buffer)\n",
    "    loginfo('Buffer tagged.')\n",
    "    write.table(x = buffer, file = file_out, append = TRUE, sep = \"\\t\", row.names = FALSE, col.names = FALSE)\n",
    "    loginfo(paste('Buffer written to', file_out))\n",
    "  }\n",
    "}\n",
    "\n",
    "tags_to_disk()\n"
   ]
  }
 ],
 "metadata": {
  "kernelspec": {
   "display_name": "R",
   "language": "R",
   "name": "ir"
  },
  "language_info": {
   "codemirror_mode": "r",
   "file_extension": ".r",
   "mimetype": "text/x-r-source",
   "name": "R",
   "pygments_lexer": "r",
   "version": "3.4.3"
  }
 },
 "nbformat": 4,
 "nbformat_minor": 2
}
